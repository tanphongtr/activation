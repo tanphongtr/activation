{
 "cells": [
  {
   "cell_type": "code",
   "execution_count": 105,
   "id": "d837ee8b",
   "metadata": {},
   "outputs": [],
   "source": [
    "import pandas as pd\n",
    "\n",
    "file = r'./hanhchinhvn.xls'\n",
    "df = pd.read_excel(file, sheet_name='Sheet1')"
   ]
  },
  {
   "cell_type": "code",
   "execution_count": 108,
   "id": "71f521c5",
   "metadata": {},
   "outputs": [],
   "source": [
    "provinces = df.groupby(['Tỉnh Thành Phố']).mean(numeric_only=True)"
   ]
  },
  {
   "cell_type": "code",
   "execution_count": 109,
   "id": "8e30f332",
   "metadata": {},
   "outputs": [
    {
     "name": "stdout",
     "output_type": "stream",
     "text": [
      "                       Mã TP       Mã QH         Mã PX\n",
      "Tỉnh Thành Phố                                        \n",
      "Thành phố Cần Thơ       92.0  922.000000  31220.421687\n",
      "Thành phố Hà Nội         1.0  166.696028   5994.278066\n",
      "Thành phố Hải Phòng     31.0  311.279817  11620.119816\n",
      "Thành phố Hồ Chí Minh   79.0  772.631410  27203.868590\n",
      "Thành phố Đà Nẵng       48.0  493.298246  20260.589286\n",
      "...                      ...         ...           ...\n",
      "Tỉnh Điện Biên          11.0   98.984496   3250.108527\n",
      "Tỉnh Đắk Lắk            66.0  649.614130  24361.472826\n",
      "Tỉnh Đắk Nông           67.0  663.577465  24689.197183\n",
      "Tỉnh Đồng Nai           75.0  736.123529  26247.064706\n",
      "Tỉnh Đồng Tháp          87.0  871.783217  30065.699301\n",
      "\n",
      "[63 rows x 3 columns]\n"
     ]
    }
   ],
   "source": [
    "print(provinces)"
   ]
  },
  {
   "cell_type": "code",
   "execution_count": 103,
   "id": "57b852fb",
   "metadata": {},
   "outputs": [
    {
     "name": "stdout",
     "output_type": "stream",
     "text": [
      "                       Mã TP       Mã QH         Mã PX\n",
      "Quận Huyện                                            \n",
      "Huyện  Vũng Liêm   86.000000  859.000000  29687.500000\n",
      "Huyện A Lưới       46.000000  481.000000  20073.500000\n",
      "Huyện An Biên      91.000000  908.000000  30997.000000\n",
      "Huyện An Dương     31.000000  312.000000  11603.500000\n",
      "Huyện An Lão       38.777778  397.814815  15344.740741\n",
      "...                      ...         ...           ...\n",
      "Thị xã Vĩnh Châu   94.000000  950.000000  31796.500000\n",
      "Thị xã Điện Bàn    49.000000  507.000000  20572.900000\n",
      "Thị xã Đông Hòa    54.000000  564.000000  22272.400000\n",
      "Thị xã Đông Triều  22.000000  205.000000   7099.000000\n",
      "Thị xã Đức Phổ     51.000000  534.000000  21460.000000\n",
      "\n",
      "[689 rows x 3 columns]\n"
     ]
    }
   ],
   "source": [
    "districts = df.groupby(['Quận Huyện']).mean(numeric_only=True)\n",
    "print(districts)"
   ]
  },
  {
   "cell_type": "code",
   "execution_count": 104,
   "id": "d9ee971e",
   "metadata": {},
   "outputs": [
    {
     "name": "stdout",
     "output_type": "stream",
     "text": [
      "         Tỉnh Thành Phố  Mã TP       Quận Huyện  Mã QH          Phường Xã  \\\n",
      "0      Thành phố Hà Nội      1     Quận Ba Đình      1     Phường Phúc Xá   \n",
      "1      Thành phố Hà Nội      1     Quận Ba Đình      1   Phường Trúc Bạch   \n",
      "2      Thành phố Hà Nội      1     Quận Ba Đình      1   Phường Vĩnh Phúc   \n",
      "3      Thành phố Hà Nội      1     Quận Ba Đình      1     Phường Cống Vị   \n",
      "4      Thành phố Hà Nội      1     Quận Ba Đình      1   Phường Liễu Giai   \n",
      "...                 ...    ...              ...    ...                ...   \n",
      "10599       Tỉnh Cà Mau     96  Huyện Ngọc Hiển    973    Xã Viên An Đông   \n",
      "10600       Tỉnh Cà Mau     96  Huyện Ngọc Hiển    973         Xã Viên An   \n",
      "10601       Tỉnh Cà Mau     96  Huyện Ngọc Hiển    973  Thị trấn Rạch Gốc   \n",
      "10602       Tỉnh Cà Mau     96  Huyện Ngọc Hiển    973          Xã Tân Ân   \n",
      "10603       Tỉnh Cà Mau     96  Huyện Ngọc Hiển    973         Xã Đất Mũi   \n",
      "\n",
      "         Mã PX       Cấp      Tên Tiếng Anh  \n",
      "0          1.0    Phường                NaN  \n",
      "1          4.0    Phường                NaN  \n",
      "2          6.0    Phường  Vinh Phuc Commune  \n",
      "3          7.0    Phường                NaN  \n",
      "4          8.0    Phường  Lieu Giai Commune  \n",
      "...        ...       ...                ...  \n",
      "10599  32239.0        Xã                NaN  \n",
      "10600  32242.0        Xã                NaN  \n",
      "10601  32244.0  Thị trấn                NaN  \n",
      "10602  32245.0        Xã                NaN  \n",
      "10603  32248.0        Xã                NaN  \n",
      "\n",
      "[10604 rows x 8 columns]\n"
     ]
    }
   ],
   "source": [
    "wards = df\n",
    "print(wards)"
   ]
  },
  {
   "cell_type": "code",
   "execution_count": 54,
   "id": "a2a3d46e",
   "metadata": {},
   "outputs": [],
   "source": [
    "a = pd.DataFrame.from_dict([{\"tet\":\"test\"}, {\"tes\":\"ksfksdjf\"}])"
   ]
  },
  {
   "cell_type": "code",
   "execution_count": 55,
   "id": "8224d8ba",
   "metadata": {},
   "outputs": [],
   "source": [
    "a.to_json('temp.json', orient='records')"
   ]
  },
  {
   "cell_type": "code",
   "execution_count": 63,
   "id": "5f80aba5",
   "metadata": {},
   "outputs": [
    {
     "name": "stdout",
     "output_type": "stream",
     "text": [
      "Mã TP\n",
      "Mã QH\n",
      "Mã PX\n"
     ]
    }
   ],
   "source": [
    "__provinces = []\n",
    "a = 0\n",
    "for province in provinces:\n",
    "    print(province)\n",
    "    a+=1\n",
    "    if a > 3:\n",
    "        break"
   ]
  },
  {
   "cell_type": "code",
   "execution_count": null,
   "id": "4454ee75",
   "metadata": {},
   "outputs": [],
   "source": []
  }
 ],
 "metadata": {
  "kernelspec": {
   "display_name": "Python 3 (ipykernel)",
   "language": "python",
   "name": "python3"
  },
  "language_info": {
   "codemirror_mode": {
    "name": "ipython",
    "version": 3
   },
   "file_extension": ".py",
   "mimetype": "text/x-python",
   "name": "python",
   "nbconvert_exporter": "python",
   "pygments_lexer": "ipython3",
   "version": "3.10.8"
  }
 },
 "nbformat": 4,
 "nbformat_minor": 5
}
